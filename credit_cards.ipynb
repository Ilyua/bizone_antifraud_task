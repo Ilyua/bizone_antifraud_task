{
 "cells": [
  {
   "cell_type": "code",
   "execution_count": 1,
   "metadata": {
    "scrolled": true
   },
   "outputs": [
    {
     "data": {
      "application/javascript": [
       "IPython.notebook.set_autosave_interval(60000)"
      ]
     },
     "metadata": {},
     "output_type": "display_data"
    },
    {
     "name": "stdout",
     "output_type": "stream",
     "text": [
      "Autosaving every 60 seconds\n"
     ]
    }
   ],
   "source": [
    "%autosave 60"
   ]
  },
  {
   "cell_type": "code",
   "execution_count": 2,
   "metadata": {},
   "outputs": [],
   "source": [
    "import warnings\n",
    "warnings.simplefilter('ignore')"
   ]
  },
  {
   "cell_type": "code",
   "execution_count": 131,
   "metadata": {},
   "outputs": [],
   "source": [
    "import pandas as pd\n",
    "import numpy as np\n",
    "\n",
    "from sklearn.metrics import make_scorer\n",
    "from sklearn.metrics import accuracy_score\n",
    "from sklearn.metrics import roc_auc_score\n",
    "from sklearn.metrics import recall_score\n",
    "from sklearn.metrics import precision_score\n",
    "from sklearn.metrics import precision_recall_curve\n",
    "from sklearn.metrics import average_precision_score\n",
    "from sklearn.model_selection import train_test_split, StratifiedKFold\n",
    "from sklearn.neighbors import KNeighborsClassifier\n",
    "from sklearn.ensemble import RandomForestClassifier\n",
    "from sklearn.model_selection import cross_val_score,  GridSearchCV\n",
    "from sklearn.linear_model import LogisticRegression\n",
    "from sklearn.neural_network import MLPClassifier\n",
    "from sklearn.metrics import confusion_matrix,classification_report\n",
    "\n",
    "# стороняя библиотека для работы с несбалансированными датасетами\n",
    "from imblearn.over_sampling import ADASYN\n",
    "\n",
    "# настройки отображения графиков\n",
    "# %config InlineBackend.figure_format = 'svg' \n",
    "import matplotlib.pyplot as plt\n",
    "import seaborn as sns\n",
    "sns.set(style=\"ticks\", color_codes=True)\n",
    "%matplotlib inline\n",
    "\n",
    "# увеличим  размер графиков\n",
    "from pylab import rcParams\n",
    "rcParams['figure.figsize'] = 8,4\n",
    "\n",
    "\n",
    "import itertools\n",
    "# для воспроизводимости:\n",
    "r_state = 11"
   ]
  },
  {
   "cell_type": "code",
   "execution_count": 132,
   "metadata": {},
   "outputs": [],
   "source": [
    "data_path = './data/creditcard.csv'"
   ]
  },
  {
   "cell_type": "code",
   "execution_count": 133,
   "metadata": {},
   "outputs": [],
   "source": [
    "df = pd.read_csv(data_path)"
   ]
  },
  {
   "cell_type": "code",
   "execution_count": null,
   "metadata": {},
   "outputs": [],
   "source": []
  },
  {
   "cell_type": "code",
   "execution_count": null,
   "metadata": {},
   "outputs": [],
   "source": []
  },
  {
   "cell_type": "markdown",
   "metadata": {},
   "source": [
    "Проверим, что все считалось должным образом: \n",
    " "
   ]
  },
  {
   "cell_type": "code",
   "execution_count": 134,
   "metadata": {},
   "outputs": [
    {
     "data": {
      "text/html": [
       "<div>\n",
       "<style scoped>\n",
       "    .dataframe tbody tr th:only-of-type {\n",
       "        vertical-align: middle;\n",
       "    }\n",
       "\n",
       "    .dataframe tbody tr th {\n",
       "        vertical-align: top;\n",
       "    }\n",
       "\n",
       "    .dataframe thead th {\n",
       "        text-align: right;\n",
       "    }\n",
       "</style>\n",
       "<table border=\"1\" class=\"dataframe\">\n",
       "  <thead>\n",
       "    <tr style=\"text-align: right;\">\n",
       "      <th></th>\n",
       "      <th>Time</th>\n",
       "      <th>V1</th>\n",
       "      <th>V2</th>\n",
       "      <th>V3</th>\n",
       "      <th>V4</th>\n",
       "      <th>V5</th>\n",
       "      <th>V6</th>\n",
       "      <th>V7</th>\n",
       "      <th>V8</th>\n",
       "      <th>V9</th>\n",
       "      <th>...</th>\n",
       "      <th>V21</th>\n",
       "      <th>V22</th>\n",
       "      <th>V23</th>\n",
       "      <th>V24</th>\n",
       "      <th>V25</th>\n",
       "      <th>V26</th>\n",
       "      <th>V27</th>\n",
       "      <th>V28</th>\n",
       "      <th>Amount</th>\n",
       "      <th>Class</th>\n",
       "    </tr>\n",
       "  </thead>\n",
       "  <tbody>\n",
       "    <tr>\n",
       "      <th>0</th>\n",
       "      <td>0.0</td>\n",
       "      <td>-1.359807</td>\n",
       "      <td>-0.072781</td>\n",
       "      <td>2.536347</td>\n",
       "      <td>1.378155</td>\n",
       "      <td>-0.338321</td>\n",
       "      <td>0.462388</td>\n",
       "      <td>0.239599</td>\n",
       "      <td>0.098698</td>\n",
       "      <td>0.363787</td>\n",
       "      <td>...</td>\n",
       "      <td>-0.018307</td>\n",
       "      <td>0.277838</td>\n",
       "      <td>-0.110474</td>\n",
       "      <td>0.066928</td>\n",
       "      <td>0.128539</td>\n",
       "      <td>-0.189115</td>\n",
       "      <td>0.133558</td>\n",
       "      <td>-0.021053</td>\n",
       "      <td>149.62</td>\n",
       "      <td>0</td>\n",
       "    </tr>\n",
       "    <tr>\n",
       "      <th>1</th>\n",
       "      <td>0.0</td>\n",
       "      <td>1.191857</td>\n",
       "      <td>0.266151</td>\n",
       "      <td>0.166480</td>\n",
       "      <td>0.448154</td>\n",
       "      <td>0.060018</td>\n",
       "      <td>-0.082361</td>\n",
       "      <td>-0.078803</td>\n",
       "      <td>0.085102</td>\n",
       "      <td>-0.255425</td>\n",
       "      <td>...</td>\n",
       "      <td>-0.225775</td>\n",
       "      <td>-0.638672</td>\n",
       "      <td>0.101288</td>\n",
       "      <td>-0.339846</td>\n",
       "      <td>0.167170</td>\n",
       "      <td>0.125895</td>\n",
       "      <td>-0.008983</td>\n",
       "      <td>0.014724</td>\n",
       "      <td>2.69</td>\n",
       "      <td>0</td>\n",
       "    </tr>\n",
       "    <tr>\n",
       "      <th>2</th>\n",
       "      <td>1.0</td>\n",
       "      <td>-1.358354</td>\n",
       "      <td>-1.340163</td>\n",
       "      <td>1.773209</td>\n",
       "      <td>0.379780</td>\n",
       "      <td>-0.503198</td>\n",
       "      <td>1.800499</td>\n",
       "      <td>0.791461</td>\n",
       "      <td>0.247676</td>\n",
       "      <td>-1.514654</td>\n",
       "      <td>...</td>\n",
       "      <td>0.247998</td>\n",
       "      <td>0.771679</td>\n",
       "      <td>0.909412</td>\n",
       "      <td>-0.689281</td>\n",
       "      <td>-0.327642</td>\n",
       "      <td>-0.139097</td>\n",
       "      <td>-0.055353</td>\n",
       "      <td>-0.059752</td>\n",
       "      <td>378.66</td>\n",
       "      <td>0</td>\n",
       "    </tr>\n",
       "    <tr>\n",
       "      <th>3</th>\n",
       "      <td>1.0</td>\n",
       "      <td>-0.966272</td>\n",
       "      <td>-0.185226</td>\n",
       "      <td>1.792993</td>\n",
       "      <td>-0.863291</td>\n",
       "      <td>-0.010309</td>\n",
       "      <td>1.247203</td>\n",
       "      <td>0.237609</td>\n",
       "      <td>0.377436</td>\n",
       "      <td>-1.387024</td>\n",
       "      <td>...</td>\n",
       "      <td>-0.108300</td>\n",
       "      <td>0.005274</td>\n",
       "      <td>-0.190321</td>\n",
       "      <td>-1.175575</td>\n",
       "      <td>0.647376</td>\n",
       "      <td>-0.221929</td>\n",
       "      <td>0.062723</td>\n",
       "      <td>0.061458</td>\n",
       "      <td>123.50</td>\n",
       "      <td>0</td>\n",
       "    </tr>\n",
       "    <tr>\n",
       "      <th>4</th>\n",
       "      <td>2.0</td>\n",
       "      <td>-1.158233</td>\n",
       "      <td>0.877737</td>\n",
       "      <td>1.548718</td>\n",
       "      <td>0.403034</td>\n",
       "      <td>-0.407193</td>\n",
       "      <td>0.095921</td>\n",
       "      <td>0.592941</td>\n",
       "      <td>-0.270533</td>\n",
       "      <td>0.817739</td>\n",
       "      <td>...</td>\n",
       "      <td>-0.009431</td>\n",
       "      <td>0.798278</td>\n",
       "      <td>-0.137458</td>\n",
       "      <td>0.141267</td>\n",
       "      <td>-0.206010</td>\n",
       "      <td>0.502292</td>\n",
       "      <td>0.219422</td>\n",
       "      <td>0.215153</td>\n",
       "      <td>69.99</td>\n",
       "      <td>0</td>\n",
       "    </tr>\n",
       "  </tbody>\n",
       "</table>\n",
       "<p>5 rows × 31 columns</p>\n",
       "</div>"
      ],
      "text/plain": [
       "   Time        V1        V2        V3        V4        V5        V6        V7  \\\n",
       "0   0.0 -1.359807 -0.072781  2.536347  1.378155 -0.338321  0.462388  0.239599   \n",
       "1   0.0  1.191857  0.266151  0.166480  0.448154  0.060018 -0.082361 -0.078803   \n",
       "2   1.0 -1.358354 -1.340163  1.773209  0.379780 -0.503198  1.800499  0.791461   \n",
       "3   1.0 -0.966272 -0.185226  1.792993 -0.863291 -0.010309  1.247203  0.237609   \n",
       "4   2.0 -1.158233  0.877737  1.548718  0.403034 -0.407193  0.095921  0.592941   \n",
       "\n",
       "         V8        V9  ...         V21       V22       V23       V24  \\\n",
       "0  0.098698  0.363787  ...   -0.018307  0.277838 -0.110474  0.066928   \n",
       "1  0.085102 -0.255425  ...   -0.225775 -0.638672  0.101288 -0.339846   \n",
       "2  0.247676 -1.514654  ...    0.247998  0.771679  0.909412 -0.689281   \n",
       "3  0.377436 -1.387024  ...   -0.108300  0.005274 -0.190321 -1.175575   \n",
       "4 -0.270533  0.817739  ...   -0.009431  0.798278 -0.137458  0.141267   \n",
       "\n",
       "        V25       V26       V27       V28  Amount  Class  \n",
       "0  0.128539 -0.189115  0.133558 -0.021053  149.62      0  \n",
       "1  0.167170  0.125895 -0.008983  0.014724    2.69      0  \n",
       "2 -0.327642 -0.139097 -0.055353 -0.059752  378.66      0  \n",
       "3  0.647376 -0.221929  0.062723  0.061458  123.50      0  \n",
       "4 -0.206010  0.502292  0.219422  0.215153   69.99      0  \n",
       "\n",
       "[5 rows x 31 columns]"
      ]
     },
     "execution_count": 134,
     "metadata": {},
     "output_type": "execute_result"
    }
   ],
   "source": [
    "df.head()"
   ]
  },
  {
   "cell_type": "code",
   "execution_count": 135,
   "metadata": {},
   "outputs": [],
   "source": [
    "# df = df.sample(n=100000)"
   ]
  },
  {
   "cell_type": "markdown",
   "metadata": {},
   "source": [
    "Сперва посмотрим на распределение меток у целевого класса:"
   ]
  },
  {
   "cell_type": "code",
   "execution_count": 136,
   "metadata": {
    "scrolled": false
   },
   "outputs": [],
   "source": [
    "# print(df['Class'].value_counts())\n",
    "# sns.countplot(df['Class']);"
   ]
  },
  {
   "cell_type": "markdown",
   "metadata": {},
   "source": [
    "Отчетливо видно, что данные сильно несбалансированы. Для того, чтобы решить эту проблему, я буду использовать три подхода: алгоритмы ADASYN и SMOTE и обучение на сбалансированной подвыборке. Производить оценку моделей буду на тестовой части всей выборки."
   ]
  },
  {
   "cell_type": "markdown",
   "metadata": {},
   "source": [
    "Оценим, насколько мошеннические транзакции коррелируют со временем:"
   ]
  },
  {
   "cell_type": "code",
   "execution_count": 137,
   "metadata": {},
   "outputs": [],
   "source": [
    "# sns.distplot(df[df['Class']==1]['Time'],100);"
   ]
  },
  {
   "cell_type": "markdown",
   "metadata": {},
   "source": [
    "Видим, что имеется два максимума, но на общем фоне они не сильно выделяются."
   ]
  },
  {
   "cell_type": "markdown",
   "metadata": {},
   "source": [
    "Посмотрим как пространство признаков изображается при двумерной проекции(на примере признаков 'V11', 'V12', 'V13', 'V14', 'V15') :"
   ]
  },
  {
   "cell_type": "code",
   "execution_count": 138,
   "metadata": {},
   "outputs": [],
   "source": [
    "# %%time\n",
    "\n",
    "# rcParams['figure.figsize'] = 12,12\n",
    "# sns_plot = sns.pairplot(df,vars=['V11', 'V12', 'V13', 'V14', 'V15'],hue=\"Class\",markers=[\"o\", \"s\"])\n",
    "# rcParams['figure.figsize'] = 8,7"
   ]
  },
  {
   "cell_type": "code",
   "execution_count": null,
   "metadata": {},
   "outputs": [],
   "source": []
  },
  {
   "cell_type": "code",
   "execution_count": null,
   "metadata": {},
   "outputs": [],
   "source": []
  },
  {
   "cell_type": "code",
   "execution_count": 139,
   "metadata": {},
   "outputs": [],
   "source": [
    "def plot_confusion_matrix(cm, classes=[0,1],title='Confusion matrix',cmap=plt.cm.Blues):\n",
    "    plt.imshow(cm, interpolation='nearest', cmap=cmap)\n",
    "    plt.title(title, fontsize=14)\n",
    "    plt.colorbar()\n",
    "    tick_marks = np.arange(len(classes))\n",
    "    plt.xticks(tick_marks, classes, rotation=45)\n",
    "    plt.yticks(tick_marks, classes)\n",
    "\n",
    "    fmt = 'd'\n",
    "    thresh = cm.max() / 2.\n",
    "    for i, j in itertools.product(range(cm.shape[0]), range(cm.shape[1])):\n",
    "        plt.text(j, i, format(cm[i, j], fmt),\n",
    "                 horizontalalignment=\"center\",\n",
    "                 color=\"white\" if cm[i, j] > thresh else \"black\")\n",
    "\n",
    "    plt.tight_layout()\n",
    "    plt.ylabel('True label')\n",
    "    plt.xlabel('Predicted label')\n",
    "    "
   ]
  },
  {
   "cell_type": "code",
   "execution_count": 140,
   "metadata": {},
   "outputs": [],
   "source": [
    "def plot_precision_recall_curve(y_test, y_score):\n",
    "    average_precision = average_precision_score(y_test, y_score)\n",
    "    precision, recall, _ = precision_recall_curve(y_test, y_score)\n",
    "    plt.step(recall, precision, color='b', alpha=0.2,where='post')\n",
    "    plt.fill_between(recall, precision, step='post', alpha=0.2,color='b')\n",
    "    plt.xlabel('Recall')\n",
    "    plt.ylabel('Precision')\n",
    "    plt.ylim([0.0, 1.05])\n",
    "    plt.xlim([0.0, 1.0])\n",
    "    plt.title('2-class Precision-Recall curve: AP={0:0.2f}'.format(average_precision))"
   ]
  },
  {
   "cell_type": "code",
   "execution_count": 141,
   "metadata": {},
   "outputs": [],
   "source": [
    "def plot_estimates(clf,y_test, X_train):\n",
    "    y_score = clf.predict_proba(X_train)[:,1] \n",
    "    fig = plt.figure(figsize=(19,3))\n",
    "    plt.subplot(1, 2, 1)\n",
    "    plot_confusion_matrix(confusion_matrix(y_test,clf.predict(X_test)))\n",
    "    \n",
    "\n",
    "    plt.subplot(1, 2, 2)\n",
    "    plot_precision_recall_curve(y_test, y_score)\n",
    "    \n",
    "\n",
    "    plt.show()"
   ]
  },
  {
   "cell_type": "code",
   "execution_count": 142,
   "metadata": {},
   "outputs": [],
   "source": [
    "# plot_estimates(gcv,y_test, X_test)"
   ]
  },
  {
   "cell_type": "code",
   "execution_count": 143,
   "metadata": {},
   "outputs": [],
   "source": [
    "# Соединим строки поддельных с переводов исходного датасета с таким же количеством неподдельных\n",
    "def create_balanced_data_from_initial(data):\n",
    "    fraud = data[(data['Class']==1)]\n",
    "    not_fraud = data[(data['Class']==0)]\n",
    "\n",
    "    n_fraud = len(fraud)//2\n",
    "\n",
    "    X_original_unb = pd.concat([fraud[n_fraud:].drop(['Class'], axis=1),not_fraud[n_fraud:].drop(['Class'], axis=1)])\n",
    "\n",
    "    y_original_unb = pd.concat([fraud[n_fraud:]['Class'],not_fraud[n_fraud:]['Class']])\n",
    "\n",
    "    X_original_b = pd.concat([fraud[:n_fraud-1].drop(['Class'], axis=1),not_fraud[:n_fraud-1].drop(['Class'], axis=1)])\n",
    "\n",
    "    y_original_b = pd.concat([fraud[:n_fraud-1]['Class'],not_fraud[:n_fraud-1]['Class']])\n",
    "\n",
    "\n",
    "    return X_original_unb,y_original_unb,X_original_b,y_original_b"
   ]
  },
  {
   "cell_type": "code",
   "execution_count": 144,
   "metadata": {},
   "outputs": [],
   "source": [
    "df = pd.read_csv(data_path)"
   ]
  },
  {
   "cell_type": "code",
   "execution_count": 145,
   "metadata": {},
   "outputs": [],
   "source": [
    "df = df.sample(n=5000)"
   ]
  },
  {
   "cell_type": "code",
   "execution_count": 146,
   "metadata": {},
   "outputs": [],
   "source": [
    "X_train, X_test, y_train, y_test = train_test_split(df.drop(['Class'],axis=1),df['Class'], test_size=0.4)"
   ]
  },
  {
   "cell_type": "code",
   "execution_count": 147,
   "metadata": {},
   "outputs": [],
   "source": [
    "skf = StratifiedKFold(n_splits=2, shuffle=True, random_state=r_state)"
   ]
  },
  {
   "cell_type": "code",
   "execution_count": 148,
   "metadata": {},
   "outputs": [],
   "source": [
    "# Нет возможности оптимально обратиться к датасету из функции оценки\n",
    "def my_custom_loss_func(y, y_pred,penalty_1,penalty_2):\n",
    "    conf_matrix = confusion_matrix(y, y_pred) \n",
    "    error_1 = conf_matrix[1][0]*penalty_1\n",
    "    error_2 = conf_matrix[0][1]*penalty_2 \n",
    "    return error_1+error_2\n",
    "\n",
    "my_scorer = make_scorer(my_custom_loss_func, greater_is_better=False,penalty_1=100,penalty_2=50)"
   ]
  },
  {
   "cell_type": "code",
   "execution_count": 149,
   "metadata": {},
   "outputs": [],
   "source": [
    "# Применение алгоритма ADASYN\n",
    "def create_balanced_data_adasyn(x,y):\n",
    "    sm = ADASYN(random_state=12, ratio = 'minority')\n",
    "    X,Y = sm.fit_sample(x, y)\n",
    "    X = pd.DataFrame(X,columns = ['Time','V1', 'V2', 'V3', 'V4', 'V5', 'V6', 'V7', 'V8', 'V9', 'V10',\n",
    "       'V11', 'V12', 'V13', 'V14', 'V15', 'V16', 'V17', 'V18', 'V19', 'V20',\n",
    "       'V21', 'V22', 'V23', 'V24', 'V25', 'V26', 'V27', 'V28', 'Amount'] )\n",
    "    Y = pd.DataFrame(Y,columns = ['Class'])\n",
    "    return X,Y"
   ]
  },
  {
   "cell_type": "code",
   "execution_count": 150,
   "metadata": {},
   "outputs": [],
   "source": [
    "# Оценка модели на указанных датасетах\n",
    "def estimate_model(clf, X_test, y_test):\n",
    "    print(\"ROC AUC score: {} \".format(roc_auc_score(y_test,clf.predict_proba(X_test)[:,1])))\n",
    "    print('Custom loss: {}'.format(my_scorer(clf, X_test, y_test)))\n",
    "    print(classification_report(y_test,clf.predict(X_test)))\n",
    "    \n",
    "    \n",
    "    "
   ]
  },
  {
   "cell_type": "code",
   "execution_count": 151,
   "metadata": {},
   "outputs": [],
   "source": [
    "parameters_rfc = {'max_depth': [3,5,10, None],\n",
    "                  'n_estimators':[10,15,16,20],\n",
    "                  'max_features': [6,7,8,10],\n",
    "                  'n_jobs':[-1]}"
   ]
  },
  {
   "cell_type": "code",
   "execution_count": 152,
   "metadata": {},
   "outputs": [],
   "source": [
    "parameters_knn = {'n_neighbors': range(10,30,10),\n",
    "                  'n_jobs':[-1]}"
   ]
  },
  {
   "cell_type": "code",
   "execution_count": 153,
   "metadata": {},
   "outputs": [],
   "source": [
    "parameters_log = {'C': np.linspace(0.1,20,num=20),\n",
    "                  'penalty':['l1', 'l2']}"
   ]
  },
  {
   "cell_type": "code",
   "execution_count": 154,
   "metadata": {},
   "outputs": [],
   "source": [
    "parameters_mlp = {'activation':['logistic','relu'], \n",
    "                  'alpha':[1e-5],\n",
    "                  'hidden_layer_sizes':[(256,),(128,256,)],\n",
    "                  'learning_rate':['adaptive']}"
   ]
  },
  {
   "cell_type": "code",
   "execution_count": 164,
   "metadata": {},
   "outputs": [],
   "source": [
    "classifiers = {\n",
    "    'rfc':RandomForestClassifier(n_jobs=-1),\n",
    "#     'mlp':MLPClassifier(),\n",
    "    'log':LogisticRegression(),\n",
    "#     'knn':KNeighborsClassifier(n_jobs=-1)\n",
    "    \n",
    "}"
   ]
  },
  {
   "cell_type": "code",
   "execution_count": 165,
   "metadata": {},
   "outputs": [],
   "source": [
    "params ={\n",
    "    'rfc':parameters_rfc,\n",
    "    'knn':parameters_knn,\n",
    "    'log':parameters_log,\n",
    "    'mlp':parameters_mlp,\n",
    "}"
   ]
  },
  {
   "cell_type": "code",
   "execution_count": 166,
   "metadata": {},
   "outputs": [],
   "source": [
    "scoring_fuctions=[#'average_precision',\n",
    "                  my_scorer]"
   ]
  },
  {
   "cell_type": "code",
   "execution_count": 167,
   "metadata": {},
   "outputs": [],
   "source": [
    "datasets = {\n",
    "    'adasyn':create_balanced_data_adasyn(X_train,y_train)\n",
    "}"
   ]
  },
  {
   "cell_type": "code",
   "execution_count": 168,
   "metadata": {},
   "outputs": [
    {
     "name": "stdout",
     "output_type": "stream",
     "text": [
      "adasyn rfc make_scorer(my_custom_loss_func, greater_is_better=False, penalty_1=100, penalty_2=50)\n",
      "\n",
      "------------------\n",
      "\n",
      "{'max_depth': None, 'max_features': 6, 'n_estimators': 15, 'n_jobs': -1} -600.0\n",
      "ROC AUC score: 0.9995488721804511 \n",
      "Custom loss: -200\n",
      "             precision    recall  f1-score   support\n",
      "\n",
      "          0       1.00      1.00      1.00      1995\n",
      "          1       0.67      0.80      0.73         5\n",
      "\n",
      "avg / total       1.00      1.00      1.00      2000\n",
      "\n"
     ]
    },
    {
     "data": {
      "image/png": "[encoded data removed]",
      "text/plain": [
       "<Figure size 1368x216 with 2 Axes>"
      ]
     },
     "metadata": {},
     "output_type": "display_data"
    },
    {
     "name": "stdout",
     "output_type": "stream",
     "text": [
      "adasyn log make_scorer(my_custom_loss_func, greater_is_better=False, penalty_1=100, penalty_2=50)\n",
      "\n",
      "------------------\n",
      "\n",
      "{'C': 20.0, 'penalty': 'l1'} -12125.0\n",
      "ROC AUC score: 1.0 \n",
      "Custom loss: -6900\n",
      "             precision    recall  f1-score   support\n",
      "\n",
      "          0       1.00      0.93      0.96      1995\n",
      "          1       0.03      1.00      0.07         5\n",
      "\n",
      "avg / total       1.00      0.93      0.96      2000\n",
      "\n"
     ]
    },
    {
     "data": {
      "image/png": "[encoded data removed]",
      "text/plain": [
       "<Figure size 1368x216 with 2 Axes>"
      ]
     },
     "metadata": {},
     "output_type": "display_data"
    },
    {
     "name": "stdout",
     "output_type": "stream",
     "text": [
      "CPU times: user 3 s, sys: 143 ms, total: 3.15 s\n",
      "Wall time: 11.8 s\n"
     ]
    }
   ],
   "source": [
    "%%time\n",
    "\n",
    "for d_key,d_item in datasets.items():\n",
    "    for c_key,c_item in classifiers.items():\n",
    "        for f in scoring_fuctions:\n",
    "            print(d_key,c_key,f)\n",
    "            print('\\n------------------\\n')\n",
    "            gcv = GridSearchCV(c_item, params[c_key], n_jobs=-1, cv=skf, verbose=0,scoring=f)\n",
    "            gcv.fit(d_item[0],d_item[1].get_values().ravel())\n",
    "            print(gcv.best_params_ , gcv.best_score_)\n",
    "            estimate_model(gcv.best_estimator_ ,X_test, y_test)\n",
    "            plot_estimates(gcv,y_test, X_test)\n",
    "\n"
   ]
  },
  {
   "cell_type": "markdown",
   "metadata": {},
   "source": [
    "Поскольку в прошлом исследовании алгоритм ADASYN показал себя лучше остальных, то я буду использовать его без сравнения со SMOTE"
   ]
  },
  {
   "cell_type": "markdown",
   "metadata": {},
   "source": [
    "При генерации данных ADASYN, необходимо сначала отделить тестовую и проверочную выборки, а затем для тренировочной сгенерировать новые данные. Тк в противном случае, если сначала создать новых данных, а потом разделить выборку, то синтетические данные попадут в проверочный сет."
   ]
  },
  {
   "cell_type": "markdown",
   "metadata": {},
   "source": [
    "StratifiedKFold - сохраняет процент образцов в тестовом и тренировочных сетах, поэтому такому кросс-валиждатору можно доверять"
   ]
  },
  {
   "cell_type": "code",
   "execution_count": null,
   "metadata": {},
   "outputs": [],
   "source": [
    "# %%time\n",
    "# tsne = TSNE(random_state=17)\n",
    "# scaler = StandardScaler()\n",
    "# X_scaled = scaler.fit_transform(df.drop(['Class'],axis=1))\n",
    "# tsne_representation = tsne.fit_transform(X_scaled)\n",
    "# plt.scatter(tsne_representation[:, 0], tsne_representation[:, 1], \n",
    "#             c=df['Class'].map({0: 'blue', 1: 'orange'}));"
   ]
  },
  {
   "cell_type": "code",
   "execution_count": null,
   "metadata": {},
   "outputs": [],
   "source": []
  },
  {
   "cell_type": "markdown",
   "metadata": {},
   "source": [
    "Рассмотрим несколько моделей и выберем наилучшую."
   ]
  },
  {
   "cell_type": "markdown",
   "metadata": {},
   "source": [
    "## Случайный лес"
   ]
  },
  {
   "cell_type": "code",
   "execution_count": null,
   "metadata": {
    "scrolled": false
   },
   "outputs": [],
   "source": [
    "# %%time\n",
    "\n",
    "\n",
    "# rfc = RandomForestClassifier()\n",
    "\n",
    "# gcv = GridSearchCV(rfc, parameters, n_jobs=-1, cv=skf, verbose=0,scoring='recall')\n",
    "\n",
    "# fig = plt.figure(figsize=(16,8))\n",
    "# j=1\n",
    "\n",
    "# for key in sorted(datasets):\n",
    "#     print('\\n###############################\\n')\n",
    "    \n",
    "#     gcv.fit(datasets[key][0],datasets[key][1])\n",
    "    \n",
    "#     best_rfc= gcv.best_estimator_   \n",
    "    \n",
    "#     print(key,gcv.best_params_ , gcv.best_score_)\n",
    "    \n",
    "#     estimate_model(gcv.best_estimator_ , X_original_b,y_original_b, X_test, y_test)\n",
    "    \n",
    "#     conf_matrix = confusion_matrix(y_test,gcv.best_estimator_.predict(X_test))\n",
    "   \n",
    "#     fig.add_subplot(2,3,j)\n",
    "#     j += 1\n",
    "\n",
    "#     plot_confusion_matrix(conf_matrix, title=key)\n",
    "# plt.show()    \n",
    "    "
   ]
  },
  {
   "cell_type": "markdown",
   "metadata": {},
   "source": [
    "## Метод ближайших соседей"
   ]
  },
  {
   "cell_type": "code",
   "execution_count": null,
   "metadata": {},
   "outputs": [],
   "source": [
    "# %%time\n",
    "\n",
    "\n",
    "# knn = KNeighborsClassifier()\n",
    "\n",
    "# gcv = GridSearchCV(knn, parameters, n_jobs=-1, cv=skf, verbose=0,scoring='recall')\n",
    "\n",
    "# fig = plt.figure(figsize=(16,8))\n",
    "# j=1\n",
    "\n",
    "# for key in sorted(datasets):\n",
    "#     print('\\n###############################\\n')\n",
    "    \n",
    "#     gcv.fit(datasets[key][0],datasets[key][1])\n",
    "    \n",
    "#     best_knn = gcv.best_estimator_   \n",
    "    \n",
    "#     print(key,gcv.best_params_ , gcv.best_score_)\n",
    "    \n",
    "#     estimate_model(gcv.best_estimator_ , X_original_b,y_original_b, X_test, y_test)\n",
    "    \n",
    "#     conf_matrix = confusion_matrix(y_test,gcv.best_estimator_.predict(X_test))\n",
    "   \n",
    "#     fig.add_subplot(2,3,j)\n",
    "#     j += 1\n",
    "\n",
    "#     plot_confusion_matrix(conf_matrix, title=key)\n",
    "# plt.show()    \n"
   ]
  },
  {
   "cell_type": "markdown",
   "metadata": {},
   "source": [
    "## Логистическая регрессия"
   ]
  },
  {
   "cell_type": "code",
   "execution_count": null,
   "metadata": {
    "scrolled": false
   },
   "outputs": [],
   "source": [
    "# %%time\n",
    "# logit = LogisticRegression(n_jobs=-1)       \n",
    "\n",
    "\n",
    "\n",
    "\n",
    "\n",
    "# gcv = GridSearchCV(logit, parameters, n_jobs=-1, cv=skf, verbose=0,scoring='recall')\n",
    "\n",
    "# fig = plt.figure(figsize=(16,8))\n",
    "# j=1\n",
    "\n",
    "# for key in sorted(datasets):\n",
    "#     print('\\n###############################\\n')\n",
    "    \n",
    "#     gcv.fit(datasets[key][0],datasets[key][1])\n",
    "    \n",
    "#     best_logit = gcv.best_estimator_   \n",
    "    \n",
    "#     print(key,gcv.best_params_ , gcv.best_score_)\n",
    "    \n",
    "#     estimate_model(gcv.best_estimator_ , X_original_b,y_original_b, X_test, y_test)\n",
    "    \n",
    "#     conf_matrix = confusion_matrix(y_test,gcv.best_estimator_.predict(X_test))\n",
    "   \n",
    "#     fig.add_subplot(2,3,j)\n",
    "#     j += 1\n",
    "\n",
    "#     plot_confusion_matrix(conf_matrix, title=key)\n",
    "# plt.show()    \n"
   ]
  },
  {
   "cell_type": "markdown",
   "metadata": {},
   "source": [
    "## Нейросеть\n",
    "\n"
   ]
  },
  {
   "cell_type": "markdown",
   "metadata": {},
   "source": [
    "Поскольку перед нами не стоит задача распознавания изображений, у нас не так много данных и они не имеют слишком большой размерности, то воспользуемся встроенной в SKlearn нейросетью - MultiLayerClassifier"
   ]
  },
  {
   "cell_type": "code",
   "execution_count": null,
   "metadata": {},
   "outputs": [],
   "source": [
    "# %%time\n",
    "\n",
    "# scaler = RobustScaler()\n",
    "# for key in sorted(datasets):    \n",
    "#     scaler.fit_transform(datasets[key][0])\n",
    "#     scaler.fit_transform(datasets[key][0])\n",
    "\n",
    "# mlp = MLPClassifier(random_state=r_state)\n",
    "# parameters = {'activation':['logistic','relu'], 'alpha':[1e-5],'hidden_layer_sizes':[(256,),(128,256,)],'learning_rate':['adaptive']}\n",
    "\n",
    "\n",
    "\n",
    "# gcv = GridSearchCV(mlp, parameters, n_jobs=-1, cv=skf, verbose=0,scoring='recall')\n",
    "\n",
    "# fig = plt.figure(figsize=(16,8))\n",
    "# j=1\n",
    "\n",
    "# for key in sorted(datasets):\n",
    "#     print('\\n###############################\\n')\n",
    "    \n",
    "#     gcv.fit(datasets[key][0],datasets[key][1])\n",
    "    \n",
    "#     best_mlp = gcv.best_estimator_   \n",
    "    \n",
    "#     print(key,gcv.best_params_ , gcv.best_score_)\n",
    "    \n",
    "#     estimate_model(gcv.best_estimator_ , scaler.transform(X_original_b),y_original_b, scaler.transform(X_test),y_test)\n",
    "    \n",
    "#     conf_matrix = confusion_matrix(y_test,gcv.best_estimator_.predict(X_test))\n",
    "   \n",
    "#     fig.add_subplot(2,3,j)\n",
    "#     j += 1\n",
    "\n",
    "#     plot_confusion_matrix(conf_matrix, title=key)\n",
    "# plt.show()    \n"
   ]
  },
  {
   "cell_type": "markdown",
   "metadata": {},
   "source": [
    "# Заключение"
   ]
  },
  {
   "cell_type": "markdown",
   "metadata": {},
   "source": [
    "Среди всех результатов я выделяю случайный лес, обученный на алгоритме ADASYN c результатами:"
   ]
  },
  {
   "cell_type": "markdown",
   "metadata": {},
   "source": [
    "ADASYN {'max_depth': None, 'max_features': 6, 'n_estimators': 15, 'n_jobs': -1} 1.0\n",
    "\n",
    "\n",
    "ROC AUC score: 0.941954725920609\n",
    "\n",
    "\n",
    "             precision    recall  f1-score   support\n",
    "\n",
    "          0       1.00      1.00      1.00     85216\n",
    "          1       0.92      0.77      0.84        79\n",
    "\n",
    "avg / total       1.00      1.00      1.00     85295\n",
    "\n",
    "\n",
    "\n",
    "Здесь мы видим хорошие показатели по трем основным критериям - ROC AUC, Recall и Precision\n"
   ]
  },
  {
   "cell_type": "markdown",
   "metadata": {},
   "source": [
    "Также, можно выделить Логистическую регрессию, как модель, обеспечивающую бОльшую защищенность от поддельных транзакций, взамен на сильно возросшее количество False positive. Её показатели:"
   ]
  },
  {
   "cell_type": "markdown",
   "metadata": {},
   "source": [
    "\n",
    "\n",
    "ADASYN {'C': 13.71578947368421, 'penalty': 'l1'} 0.9821446526965207\n",
    "\n",
    "\n",
    "ROC AUC score: 0.9676738070226308\n",
    "\n",
    "\n",
    "             precision    recall  f1-score   support\n",
    "\n",
    "          0       1.00      0.99      0.99     85216\n",
    "          1       0.07      0.87      0.13        79\n",
    "\n",
    "avg / total       1.00      0.99      0.99     85295"
   ]
  },
  {
   "cell_type": "markdown",
   "metadata": {},
   "source": [
    "Остальные модели показали себя на порядок хуже, особенно нейросеть.\n",
    "\n",
    "Возможно, лучших результатов можно достичь подбирая гиперпараметры, но поскольку на данный момент я имею возможность обучать нейросеть, только на процессоре, тк у меня нет поддержки расчетов на видеокартах, то качественный перебор параметров занимает непозволительно много времени и я ввел ее в рассмотрение для сравнения."
   ]
  },
  {
   "cell_type": "markdown",
   "metadata": {},
   "source": [
    "Для представления заказчику с рекомендую оптимальную модель Случайного леса,обученного на синтетических данных алгоритма ADASYN, а в случае возможности пожертвовать законными транзакциями, которые будут помечены как ошибочные (например, если мы имеем удобную систему решения таких конфликтов), то можно порекомендовать модель Логистической регрессии."
   ]
  },
  {
   "cell_type": "code",
   "execution_count": null,
   "metadata": {},
   "outputs": [],
   "source": []
  }
 ],
 "metadata": {
  "kernelspec": {
   "display_name": "Python 3",
   "language": "python",
   "name": "python3"
  },
  "language_info": {
   "codemirror_mode": {
    "name": "ipython",
    "version": 3
   },
   "file_extension": ".py",
   "mimetype": "text/x-python",
   "name": "python",
   "nbconvert_exporter": "python",
   "pygments_lexer": "ipython3",
   "version": "3.6.6"
  }
 },
 "nbformat": 4,
 "nbformat_minor": 2
}
